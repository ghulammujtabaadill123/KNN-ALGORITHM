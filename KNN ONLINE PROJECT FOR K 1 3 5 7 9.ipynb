{
 "cells": [
  {
   "cell_type": "markdown",
   "metadata": {
    "button": false,
    "new_sheet": false,
    "run_control": {
     "read_only": false
    }
   },
   "source": [
    "Import the Following Libraries:\n",
    "\n"
   ]
  },
  {
   "cell_type": "code",
   "execution_count": 1,
   "metadata": {
    "button": false,
    "new_sheet": false,
    "run_control": {
     "read_only": false
    }
   },
   "outputs": [],
   "source": [
    "import sys\n",
    "from scipy import stats\n",
    "import numpy as np \n",
    "import pandas as pd\n",
    "import seaborn as sns\n",
    "import matplotlib.pyplot as plt\n",
    "import sklearn.tree as tree"
   ]
  },
  {
   "cell_type": "markdown",
   "metadata": {
    "button": false,
    "new_sheet": false,
    "run_control": {
     "read_only": false
    }
   },
   "source": [
    "<div id=\"downloading_data\"> \n",
    "    <h2>Import the Data</h2>\n",
    "    Import data set from jupyter notebook directory\n",
    "</div>\n"
   ]
  },
  {
   "cell_type": "code",
   "execution_count": 2,
   "metadata": {
    "button": false,
    "new_sheet": false,
    "run_control": {
     "read_only": false
    }
   },
   "outputs": [
    {
     "data": {
      "text/html": [
       "<div>\n",
       "<style scoped>\n",
       "    .dataframe tbody tr th:only-of-type {\n",
       "        vertical-align: middle;\n",
       "    }\n",
       "\n",
       "    .dataframe tbody tr th {\n",
       "        vertical-align: top;\n",
       "    }\n",
       "\n",
       "    .dataframe thead th {\n",
       "        text-align: right;\n",
       "    }\n",
       "</style>\n",
       "<table border=\"1\" class=\"dataframe\">\n",
       "  <thead>\n",
       "    <tr style=\"text-align: right;\">\n",
       "      <th></th>\n",
       "      <th>8.196</th>\n",
       "      <th>16.84</th>\n",
       "      <th>51.71</th>\n",
       "      <th>201.9</th>\n",
       "      <th>0.086</th>\n",
       "      <th>0.05943</th>\n",
       "      <th>0.01588</th>\n",
       "      <th>0.005917</th>\n",
       "      <th>0.1769</th>\n",
       "      <th>0.06503</th>\n",
       "      <th>...</th>\n",
       "      <th>21.96</th>\n",
       "      <th>57.26</th>\n",
       "      <th>242.2</th>\n",
       "      <th>0.1297</th>\n",
       "      <th>0.1357</th>\n",
       "      <th>0.0688</th>\n",
       "      <th>0.02564</th>\n",
       "      <th>0.3105</th>\n",
       "      <th>0.07409</th>\n",
       "      <th>-1</th>\n",
       "    </tr>\n",
       "  </thead>\n",
       "  <tbody>\n",
       "    <tr>\n",
       "      <th>0</th>\n",
       "      <td>13.170</td>\n",
       "      <td>18.66</td>\n",
       "      <td>85.98</td>\n",
       "      <td>534.6</td>\n",
       "      <td>0.11580</td>\n",
       "      <td>0.12310</td>\n",
       "      <td>0.122600</td>\n",
       "      <td>0.073400</td>\n",
       "      <td>0.2128</td>\n",
       "      <td>0.06777</td>\n",
       "      <td>...</td>\n",
       "      <td>27.95</td>\n",
       "      <td>102.80</td>\n",
       "      <td>759.4</td>\n",
       "      <td>0.17860</td>\n",
       "      <td>0.41660</td>\n",
       "      <td>0.50060</td>\n",
       "      <td>0.20880</td>\n",
       "      <td>0.3900</td>\n",
       "      <td>0.11790</td>\n",
       "      <td>1</td>\n",
       "    </tr>\n",
       "    <tr>\n",
       "      <th>1</th>\n",
       "      <td>12.050</td>\n",
       "      <td>14.63</td>\n",
       "      <td>78.04</td>\n",
       "      <td>449.3</td>\n",
       "      <td>0.10310</td>\n",
       "      <td>0.09092</td>\n",
       "      <td>0.065920</td>\n",
       "      <td>0.027490</td>\n",
       "      <td>0.1675</td>\n",
       "      <td>0.06043</td>\n",
       "      <td>...</td>\n",
       "      <td>20.70</td>\n",
       "      <td>89.88</td>\n",
       "      <td>582.6</td>\n",
       "      <td>0.14940</td>\n",
       "      <td>0.21560</td>\n",
       "      <td>0.30500</td>\n",
       "      <td>0.06548</td>\n",
       "      <td>0.2747</td>\n",
       "      <td>0.08301</td>\n",
       "      <td>-1</td>\n",
       "    </tr>\n",
       "    <tr>\n",
       "      <th>2</th>\n",
       "      <td>13.490</td>\n",
       "      <td>22.30</td>\n",
       "      <td>86.91</td>\n",
       "      <td>561.0</td>\n",
       "      <td>0.08752</td>\n",
       "      <td>0.07698</td>\n",
       "      <td>0.047510</td>\n",
       "      <td>0.033840</td>\n",
       "      <td>0.1809</td>\n",
       "      <td>0.05718</td>\n",
       "      <td>...</td>\n",
       "      <td>31.82</td>\n",
       "      <td>99.00</td>\n",
       "      <td>698.8</td>\n",
       "      <td>0.11620</td>\n",
       "      <td>0.17110</td>\n",
       "      <td>0.22820</td>\n",
       "      <td>0.12820</td>\n",
       "      <td>0.2871</td>\n",
       "      <td>0.06917</td>\n",
       "      <td>-1</td>\n",
       "    </tr>\n",
       "    <tr>\n",
       "      <th>3</th>\n",
       "      <td>11.760</td>\n",
       "      <td>21.60</td>\n",
       "      <td>74.72</td>\n",
       "      <td>427.9</td>\n",
       "      <td>0.08637</td>\n",
       "      <td>0.04966</td>\n",
       "      <td>0.016570</td>\n",
       "      <td>0.011150</td>\n",
       "      <td>0.1495</td>\n",
       "      <td>0.05888</td>\n",
       "      <td>...</td>\n",
       "      <td>25.72</td>\n",
       "      <td>82.98</td>\n",
       "      <td>516.5</td>\n",
       "      <td>0.10850</td>\n",
       "      <td>0.08615</td>\n",
       "      <td>0.05523</td>\n",
       "      <td>0.03715</td>\n",
       "      <td>0.2433</td>\n",
       "      <td>0.06563</td>\n",
       "      <td>-1</td>\n",
       "    </tr>\n",
       "    <tr>\n",
       "      <th>4</th>\n",
       "      <td>13.640</td>\n",
       "      <td>16.34</td>\n",
       "      <td>87.21</td>\n",
       "      <td>571.8</td>\n",
       "      <td>0.07685</td>\n",
       "      <td>0.06059</td>\n",
       "      <td>0.018570</td>\n",
       "      <td>0.017230</td>\n",
       "      <td>0.1353</td>\n",
       "      <td>0.05953</td>\n",
       "      <td>...</td>\n",
       "      <td>23.19</td>\n",
       "      <td>96.08</td>\n",
       "      <td>656.7</td>\n",
       "      <td>0.10890</td>\n",
       "      <td>0.15820</td>\n",
       "      <td>0.10500</td>\n",
       "      <td>0.08586</td>\n",
       "      <td>0.2346</td>\n",
       "      <td>0.08025</td>\n",
       "      <td>-1</td>\n",
       "    </tr>\n",
       "    <tr>\n",
       "      <th>...</th>\n",
       "      <td>...</td>\n",
       "      <td>...</td>\n",
       "      <td>...</td>\n",
       "      <td>...</td>\n",
       "      <td>...</td>\n",
       "      <td>...</td>\n",
       "      <td>...</td>\n",
       "      <td>...</td>\n",
       "      <td>...</td>\n",
       "      <td>...</td>\n",
       "      <td>...</td>\n",
       "      <td>...</td>\n",
       "      <td>...</td>\n",
       "      <td>...</td>\n",
       "      <td>...</td>\n",
       "      <td>...</td>\n",
       "      <td>...</td>\n",
       "      <td>...</td>\n",
       "      <td>...</td>\n",
       "      <td>...</td>\n",
       "      <td>...</td>\n",
       "    </tr>\n",
       "    <tr>\n",
       "      <th>607</th>\n",
       "      <td>11.220</td>\n",
       "      <td>33.81</td>\n",
       "      <td>70.79</td>\n",
       "      <td>386.8</td>\n",
       "      <td>0.07780</td>\n",
       "      <td>0.03574</td>\n",
       "      <td>0.004967</td>\n",
       "      <td>0.006434</td>\n",
       "      <td>0.1845</td>\n",
       "      <td>0.05828</td>\n",
       "      <td>...</td>\n",
       "      <td>41.78</td>\n",
       "      <td>78.44</td>\n",
       "      <td>470.9</td>\n",
       "      <td>0.09994</td>\n",
       "      <td>0.06885</td>\n",
       "      <td>0.02318</td>\n",
       "      <td>0.03002</td>\n",
       "      <td>0.2911</td>\n",
       "      <td>0.07307</td>\n",
       "      <td>-1</td>\n",
       "    </tr>\n",
       "    <tr>\n",
       "      <th>608</th>\n",
       "      <td>20.510</td>\n",
       "      <td>27.81</td>\n",
       "      <td>134.40</td>\n",
       "      <td>1319.0</td>\n",
       "      <td>0.09159</td>\n",
       "      <td>0.10740</td>\n",
       "      <td>0.155400</td>\n",
       "      <td>0.083400</td>\n",
       "      <td>0.1448</td>\n",
       "      <td>0.05592</td>\n",
       "      <td>...</td>\n",
       "      <td>37.38</td>\n",
       "      <td>162.70</td>\n",
       "      <td>1872.0</td>\n",
       "      <td>0.12230</td>\n",
       "      <td>0.27610</td>\n",
       "      <td>0.41460</td>\n",
       "      <td>0.15630</td>\n",
       "      <td>0.2437</td>\n",
       "      <td>0.08328</td>\n",
       "      <td>1</td>\n",
       "    </tr>\n",
       "    <tr>\n",
       "      <th>609</th>\n",
       "      <td>9.567</td>\n",
       "      <td>15.91</td>\n",
       "      <td>60.21</td>\n",
       "      <td>279.6</td>\n",
       "      <td>0.08464</td>\n",
       "      <td>0.04087</td>\n",
       "      <td>0.016520</td>\n",
       "      <td>0.016670</td>\n",
       "      <td>0.1551</td>\n",
       "      <td>0.06403</td>\n",
       "      <td>...</td>\n",
       "      <td>19.16</td>\n",
       "      <td>65.74</td>\n",
       "      <td>335.9</td>\n",
       "      <td>0.15040</td>\n",
       "      <td>0.09515</td>\n",
       "      <td>0.07161</td>\n",
       "      <td>0.07222</td>\n",
       "      <td>0.2757</td>\n",
       "      <td>0.08178</td>\n",
       "      <td>-1</td>\n",
       "    </tr>\n",
       "    <tr>\n",
       "      <th>610</th>\n",
       "      <td>14.030</td>\n",
       "      <td>21.25</td>\n",
       "      <td>89.79</td>\n",
       "      <td>603.4</td>\n",
       "      <td>0.09070</td>\n",
       "      <td>0.06945</td>\n",
       "      <td>0.014620</td>\n",
       "      <td>0.018960</td>\n",
       "      <td>0.1517</td>\n",
       "      <td>0.05835</td>\n",
       "      <td>...</td>\n",
       "      <td>30.28</td>\n",
       "      <td>98.27</td>\n",
       "      <td>715.5</td>\n",
       "      <td>0.12870</td>\n",
       "      <td>0.15130</td>\n",
       "      <td>0.06231</td>\n",
       "      <td>0.07963</td>\n",
       "      <td>0.2226</td>\n",
       "      <td>0.07617</td>\n",
       "      <td>-1</td>\n",
       "    </tr>\n",
       "    <tr>\n",
       "      <th>611</th>\n",
       "      <td>23.210</td>\n",
       "      <td>26.97</td>\n",
       "      <td>153.50</td>\n",
       "      <td>1670.0</td>\n",
       "      <td>0.09509</td>\n",
       "      <td>0.16820</td>\n",
       "      <td>0.195000</td>\n",
       "      <td>0.123700</td>\n",
       "      <td>0.1909</td>\n",
       "      <td>0.06309</td>\n",
       "      <td>...</td>\n",
       "      <td>34.51</td>\n",
       "      <td>206.00</td>\n",
       "      <td>2944.0</td>\n",
       "      <td>0.14810</td>\n",
       "      <td>0.41260</td>\n",
       "      <td>0.58200</td>\n",
       "      <td>0.25930</td>\n",
       "      <td>0.3103</td>\n",
       "      <td>0.08677</td>\n",
       "      <td>1</td>\n",
       "    </tr>\n",
       "  </tbody>\n",
       "</table>\n",
       "<p>612 rows × 31 columns</p>\n",
       "</div>"
      ],
      "text/plain": [
       "      8.196  16.84   51.71   201.9    0.086  0.05943   0.01588  0.005917  \\\n",
       "0    13.170  18.66   85.98   534.6  0.11580  0.12310  0.122600  0.073400   \n",
       "1    12.050  14.63   78.04   449.3  0.10310  0.09092  0.065920  0.027490   \n",
       "2    13.490  22.30   86.91   561.0  0.08752  0.07698  0.047510  0.033840   \n",
       "3    11.760  21.60   74.72   427.9  0.08637  0.04966  0.016570  0.011150   \n",
       "4    13.640  16.34   87.21   571.8  0.07685  0.06059  0.018570  0.017230   \n",
       "..      ...    ...     ...     ...      ...      ...       ...       ...   \n",
       "607  11.220  33.81   70.79   386.8  0.07780  0.03574  0.004967  0.006434   \n",
       "608  20.510  27.81  134.40  1319.0  0.09159  0.10740  0.155400  0.083400   \n",
       "609   9.567  15.91   60.21   279.6  0.08464  0.04087  0.016520  0.016670   \n",
       "610  14.030  21.25   89.79   603.4  0.09070  0.06945  0.014620  0.018960   \n",
       "611  23.210  26.97  153.50  1670.0  0.09509  0.16820  0.195000  0.123700   \n",
       "\n",
       "     0.1769  0.06503  ...  21.96   57.26   242.2   0.1297   0.1357   0.0688  \\\n",
       "0    0.2128  0.06777  ...  27.95  102.80   759.4  0.17860  0.41660  0.50060   \n",
       "1    0.1675  0.06043  ...  20.70   89.88   582.6  0.14940  0.21560  0.30500   \n",
       "2    0.1809  0.05718  ...  31.82   99.00   698.8  0.11620  0.17110  0.22820   \n",
       "3    0.1495  0.05888  ...  25.72   82.98   516.5  0.10850  0.08615  0.05523   \n",
       "4    0.1353  0.05953  ...  23.19   96.08   656.7  0.10890  0.15820  0.10500   \n",
       "..      ...      ...  ...    ...     ...     ...      ...      ...      ...   \n",
       "607  0.1845  0.05828  ...  41.78   78.44   470.9  0.09994  0.06885  0.02318   \n",
       "608  0.1448  0.05592  ...  37.38  162.70  1872.0  0.12230  0.27610  0.41460   \n",
       "609  0.1551  0.06403  ...  19.16   65.74   335.9  0.15040  0.09515  0.07161   \n",
       "610  0.1517  0.05835  ...  30.28   98.27   715.5  0.12870  0.15130  0.06231   \n",
       "611  0.1909  0.06309  ...  34.51  206.00  2944.0  0.14810  0.41260  0.58200   \n",
       "\n",
       "     0.02564  0.3105  0.07409  -1  \n",
       "0    0.20880  0.3900  0.11790   1  \n",
       "1    0.06548  0.2747  0.08301  -1  \n",
       "2    0.12820  0.2871  0.06917  -1  \n",
       "3    0.03715  0.2433  0.06563  -1  \n",
       "4    0.08586  0.2346  0.08025  -1  \n",
       "..       ...     ...      ...  ..  \n",
       "607  0.03002  0.2911  0.07307  -1  \n",
       "608  0.15630  0.2437  0.08328   1  \n",
       "609  0.07222  0.2757  0.08178  -1  \n",
       "610  0.07963  0.2226  0.07617  -1  \n",
       "611  0.25930  0.3103  0.08677   1  \n",
       "\n",
       "[612 rows x 31 columns]"
      ]
     },
     "execution_count": 2,
     "metadata": {},
     "output_type": "execute_result"
    }
   ],
   "source": [
    "my_data = pd.read_csv(\"wdbc.data.mb.csv\", delimiter=\",\",low_memory=False)\n",
    "my_data"
   ]
  },
  {
   "cell_type": "code",
   "execution_count": 54,
   "metadata": {},
   "outputs": [
    {
     "data": {
      "text/plain": [
       "ID                         float64\n",
       "DIAGNOSIS                  float64\n",
       "radius_mean                float64\n",
       "texture_mean               float64\n",
       "perimeter_mean             float64\n",
       "area_mean                  float64\n",
       "smoothness_mean            float64\n",
       "compactness_mean           float64\n",
       "concavity_mean             float64\n",
       "concave points_mean        float64\n",
       "symmetry_mean              float64\n",
       "fractal_dimension_mean     float64\n",
       "radius_se                  float64\n",
       "texture_se                 float64\n",
       "perimeter_se               float64\n",
       "area_se                    float64\n",
       "smoothness_se              float64\n",
       "compactness_se             float64\n",
       "concavity_se               float64\n",
       "concave points_se          float64\n",
       "symmetry_se                float64\n",
       "fractal_dimension_se       float64\n",
       "radius_worst               float64\n",
       "texture_worst              float64\n",
       "perimeter_worst            float64\n",
       "area_worst                 float64\n",
       "smoothness_worst           float64\n",
       "compactness_worst          float64\n",
       "concavity_worst            float64\n",
       "fractal_dimension_worst    float64\n",
       "LABELS                       int64\n",
       "dtype: object"
      ]
     },
     "execution_count": 54,
     "metadata": {},
     "output_type": "execute_result"
    }
   ],
   "source": [
    "my_data.dtypes"
   ]
  },
  {
   "cell_type": "code",
   "execution_count": 4,
   "metadata": {},
   "outputs": [],
   "source": [
    "my_data.columns =['ID', 'DIAGNOSIS', 'radius_mean', 'texture_mean','perimeter_mean','area_mean','smoothness_mean',\n",
    "                       'compactness_mean','concavity_mean','concave points_mean','symmetry_mean','fractal_dimension_mean',\n",
    "                       'radius_se','texture_se','perimeter_se','area_se','smoothness_se','compactness_se',\n",
    "                       'concavity_se','concave points_se','symmetry_se','fractal_dimension_se','radius_worst',\n",
    "                       'texture_worst','perimeter_worst','area_worst','smoothness_worst','compactness_worst','concavity_worst',\n",
    "                       'fractal_dimension_worst','LABELS']"
   ]
  },
  {
   "cell_type": "code",
   "execution_count": 5,
   "metadata": {
    "scrolled": false
   },
   "outputs": [
    {
     "data": {
      "text/html": [
       "<div>\n",
       "<style scoped>\n",
       "    .dataframe tbody tr th:only-of-type {\n",
       "        vertical-align: middle;\n",
       "    }\n",
       "\n",
       "    .dataframe tbody tr th {\n",
       "        vertical-align: top;\n",
       "    }\n",
       "\n",
       "    .dataframe thead th {\n",
       "        text-align: right;\n",
       "    }\n",
       "</style>\n",
       "<table border=\"1\" class=\"dataframe\">\n",
       "  <thead>\n",
       "    <tr style=\"text-align: right;\">\n",
       "      <th></th>\n",
       "      <th>ID</th>\n",
       "      <th>DIAGNOSIS</th>\n",
       "      <th>radius_mean</th>\n",
       "      <th>texture_mean</th>\n",
       "      <th>perimeter_mean</th>\n",
       "      <th>area_mean</th>\n",
       "      <th>smoothness_mean</th>\n",
       "      <th>compactness_mean</th>\n",
       "      <th>concavity_mean</th>\n",
       "      <th>concave points_mean</th>\n",
       "      <th>...</th>\n",
       "      <th>fractal_dimension_se</th>\n",
       "      <th>radius_worst</th>\n",
       "      <th>texture_worst</th>\n",
       "      <th>perimeter_worst</th>\n",
       "      <th>area_worst</th>\n",
       "      <th>smoothness_worst</th>\n",
       "      <th>compactness_worst</th>\n",
       "      <th>concavity_worst</th>\n",
       "      <th>fractal_dimension_worst</th>\n",
       "      <th>LABELS</th>\n",
       "    </tr>\n",
       "  </thead>\n",
       "  <tbody>\n",
       "    <tr>\n",
       "      <th>0</th>\n",
       "      <td>13.170</td>\n",
       "      <td>18.66</td>\n",
       "      <td>85.98</td>\n",
       "      <td>534.6</td>\n",
       "      <td>0.11580</td>\n",
       "      <td>0.12310</td>\n",
       "      <td>0.122600</td>\n",
       "      <td>0.073400</td>\n",
       "      <td>0.2128</td>\n",
       "      <td>0.06777</td>\n",
       "      <td>...</td>\n",
       "      <td>27.95</td>\n",
       "      <td>102.80</td>\n",
       "      <td>759.4</td>\n",
       "      <td>0.17860</td>\n",
       "      <td>0.41660</td>\n",
       "      <td>0.50060</td>\n",
       "      <td>0.20880</td>\n",
       "      <td>0.3900</td>\n",
       "      <td>0.11790</td>\n",
       "      <td>1</td>\n",
       "    </tr>\n",
       "    <tr>\n",
       "      <th>1</th>\n",
       "      <td>12.050</td>\n",
       "      <td>14.63</td>\n",
       "      <td>78.04</td>\n",
       "      <td>449.3</td>\n",
       "      <td>0.10310</td>\n",
       "      <td>0.09092</td>\n",
       "      <td>0.065920</td>\n",
       "      <td>0.027490</td>\n",
       "      <td>0.1675</td>\n",
       "      <td>0.06043</td>\n",
       "      <td>...</td>\n",
       "      <td>20.70</td>\n",
       "      <td>89.88</td>\n",
       "      <td>582.6</td>\n",
       "      <td>0.14940</td>\n",
       "      <td>0.21560</td>\n",
       "      <td>0.30500</td>\n",
       "      <td>0.06548</td>\n",
       "      <td>0.2747</td>\n",
       "      <td>0.08301</td>\n",
       "      <td>-1</td>\n",
       "    </tr>\n",
       "    <tr>\n",
       "      <th>2</th>\n",
       "      <td>13.490</td>\n",
       "      <td>22.30</td>\n",
       "      <td>86.91</td>\n",
       "      <td>561.0</td>\n",
       "      <td>0.08752</td>\n",
       "      <td>0.07698</td>\n",
       "      <td>0.047510</td>\n",
       "      <td>0.033840</td>\n",
       "      <td>0.1809</td>\n",
       "      <td>0.05718</td>\n",
       "      <td>...</td>\n",
       "      <td>31.82</td>\n",
       "      <td>99.00</td>\n",
       "      <td>698.8</td>\n",
       "      <td>0.11620</td>\n",
       "      <td>0.17110</td>\n",
       "      <td>0.22820</td>\n",
       "      <td>0.12820</td>\n",
       "      <td>0.2871</td>\n",
       "      <td>0.06917</td>\n",
       "      <td>-1</td>\n",
       "    </tr>\n",
       "    <tr>\n",
       "      <th>3</th>\n",
       "      <td>11.760</td>\n",
       "      <td>21.60</td>\n",
       "      <td>74.72</td>\n",
       "      <td>427.9</td>\n",
       "      <td>0.08637</td>\n",
       "      <td>0.04966</td>\n",
       "      <td>0.016570</td>\n",
       "      <td>0.011150</td>\n",
       "      <td>0.1495</td>\n",
       "      <td>0.05888</td>\n",
       "      <td>...</td>\n",
       "      <td>25.72</td>\n",
       "      <td>82.98</td>\n",
       "      <td>516.5</td>\n",
       "      <td>0.10850</td>\n",
       "      <td>0.08615</td>\n",
       "      <td>0.05523</td>\n",
       "      <td>0.03715</td>\n",
       "      <td>0.2433</td>\n",
       "      <td>0.06563</td>\n",
       "      <td>-1</td>\n",
       "    </tr>\n",
       "    <tr>\n",
       "      <th>4</th>\n",
       "      <td>13.640</td>\n",
       "      <td>16.34</td>\n",
       "      <td>87.21</td>\n",
       "      <td>571.8</td>\n",
       "      <td>0.07685</td>\n",
       "      <td>0.06059</td>\n",
       "      <td>0.018570</td>\n",
       "      <td>0.017230</td>\n",
       "      <td>0.1353</td>\n",
       "      <td>0.05953</td>\n",
       "      <td>...</td>\n",
       "      <td>23.19</td>\n",
       "      <td>96.08</td>\n",
       "      <td>656.7</td>\n",
       "      <td>0.10890</td>\n",
       "      <td>0.15820</td>\n",
       "      <td>0.10500</td>\n",
       "      <td>0.08586</td>\n",
       "      <td>0.2346</td>\n",
       "      <td>0.08025</td>\n",
       "      <td>-1</td>\n",
       "    </tr>\n",
       "    <tr>\n",
       "      <th>...</th>\n",
       "      <td>...</td>\n",
       "      <td>...</td>\n",
       "      <td>...</td>\n",
       "      <td>...</td>\n",
       "      <td>...</td>\n",
       "      <td>...</td>\n",
       "      <td>...</td>\n",
       "      <td>...</td>\n",
       "      <td>...</td>\n",
       "      <td>...</td>\n",
       "      <td>...</td>\n",
       "      <td>...</td>\n",
       "      <td>...</td>\n",
       "      <td>...</td>\n",
       "      <td>...</td>\n",
       "      <td>...</td>\n",
       "      <td>...</td>\n",
       "      <td>...</td>\n",
       "      <td>...</td>\n",
       "      <td>...</td>\n",
       "      <td>...</td>\n",
       "    </tr>\n",
       "    <tr>\n",
       "      <th>607</th>\n",
       "      <td>11.220</td>\n",
       "      <td>33.81</td>\n",
       "      <td>70.79</td>\n",
       "      <td>386.8</td>\n",
       "      <td>0.07780</td>\n",
       "      <td>0.03574</td>\n",
       "      <td>0.004967</td>\n",
       "      <td>0.006434</td>\n",
       "      <td>0.1845</td>\n",
       "      <td>0.05828</td>\n",
       "      <td>...</td>\n",
       "      <td>41.78</td>\n",
       "      <td>78.44</td>\n",
       "      <td>470.9</td>\n",
       "      <td>0.09994</td>\n",
       "      <td>0.06885</td>\n",
       "      <td>0.02318</td>\n",
       "      <td>0.03002</td>\n",
       "      <td>0.2911</td>\n",
       "      <td>0.07307</td>\n",
       "      <td>-1</td>\n",
       "    </tr>\n",
       "    <tr>\n",
       "      <th>608</th>\n",
       "      <td>20.510</td>\n",
       "      <td>27.81</td>\n",
       "      <td>134.40</td>\n",
       "      <td>1319.0</td>\n",
       "      <td>0.09159</td>\n",
       "      <td>0.10740</td>\n",
       "      <td>0.155400</td>\n",
       "      <td>0.083400</td>\n",
       "      <td>0.1448</td>\n",
       "      <td>0.05592</td>\n",
       "      <td>...</td>\n",
       "      <td>37.38</td>\n",
       "      <td>162.70</td>\n",
       "      <td>1872.0</td>\n",
       "      <td>0.12230</td>\n",
       "      <td>0.27610</td>\n",
       "      <td>0.41460</td>\n",
       "      <td>0.15630</td>\n",
       "      <td>0.2437</td>\n",
       "      <td>0.08328</td>\n",
       "      <td>1</td>\n",
       "    </tr>\n",
       "    <tr>\n",
       "      <th>609</th>\n",
       "      <td>9.567</td>\n",
       "      <td>15.91</td>\n",
       "      <td>60.21</td>\n",
       "      <td>279.6</td>\n",
       "      <td>0.08464</td>\n",
       "      <td>0.04087</td>\n",
       "      <td>0.016520</td>\n",
       "      <td>0.016670</td>\n",
       "      <td>0.1551</td>\n",
       "      <td>0.06403</td>\n",
       "      <td>...</td>\n",
       "      <td>19.16</td>\n",
       "      <td>65.74</td>\n",
       "      <td>335.9</td>\n",
       "      <td>0.15040</td>\n",
       "      <td>0.09515</td>\n",
       "      <td>0.07161</td>\n",
       "      <td>0.07222</td>\n",
       "      <td>0.2757</td>\n",
       "      <td>0.08178</td>\n",
       "      <td>-1</td>\n",
       "    </tr>\n",
       "    <tr>\n",
       "      <th>610</th>\n",
       "      <td>14.030</td>\n",
       "      <td>21.25</td>\n",
       "      <td>89.79</td>\n",
       "      <td>603.4</td>\n",
       "      <td>0.09070</td>\n",
       "      <td>0.06945</td>\n",
       "      <td>0.014620</td>\n",
       "      <td>0.018960</td>\n",
       "      <td>0.1517</td>\n",
       "      <td>0.05835</td>\n",
       "      <td>...</td>\n",
       "      <td>30.28</td>\n",
       "      <td>98.27</td>\n",
       "      <td>715.5</td>\n",
       "      <td>0.12870</td>\n",
       "      <td>0.15130</td>\n",
       "      <td>0.06231</td>\n",
       "      <td>0.07963</td>\n",
       "      <td>0.2226</td>\n",
       "      <td>0.07617</td>\n",
       "      <td>-1</td>\n",
       "    </tr>\n",
       "    <tr>\n",
       "      <th>611</th>\n",
       "      <td>23.210</td>\n",
       "      <td>26.97</td>\n",
       "      <td>153.50</td>\n",
       "      <td>1670.0</td>\n",
       "      <td>0.09509</td>\n",
       "      <td>0.16820</td>\n",
       "      <td>0.195000</td>\n",
       "      <td>0.123700</td>\n",
       "      <td>0.1909</td>\n",
       "      <td>0.06309</td>\n",
       "      <td>...</td>\n",
       "      <td>34.51</td>\n",
       "      <td>206.00</td>\n",
       "      <td>2944.0</td>\n",
       "      <td>0.14810</td>\n",
       "      <td>0.41260</td>\n",
       "      <td>0.58200</td>\n",
       "      <td>0.25930</td>\n",
       "      <td>0.3103</td>\n",
       "      <td>0.08677</td>\n",
       "      <td>1</td>\n",
       "    </tr>\n",
       "  </tbody>\n",
       "</table>\n",
       "<p>612 rows × 31 columns</p>\n",
       "</div>"
      ],
      "text/plain": [
       "         ID  DIAGNOSIS  radius_mean  texture_mean  perimeter_mean  area_mean  \\\n",
       "0    13.170      18.66        85.98         534.6         0.11580    0.12310   \n",
       "1    12.050      14.63        78.04         449.3         0.10310    0.09092   \n",
       "2    13.490      22.30        86.91         561.0         0.08752    0.07698   \n",
       "3    11.760      21.60        74.72         427.9         0.08637    0.04966   \n",
       "4    13.640      16.34        87.21         571.8         0.07685    0.06059   \n",
       "..      ...        ...          ...           ...             ...        ...   \n",
       "607  11.220      33.81        70.79         386.8         0.07780    0.03574   \n",
       "608  20.510      27.81       134.40        1319.0         0.09159    0.10740   \n",
       "609   9.567      15.91        60.21         279.6         0.08464    0.04087   \n",
       "610  14.030      21.25        89.79         603.4         0.09070    0.06945   \n",
       "611  23.210      26.97       153.50        1670.0         0.09509    0.16820   \n",
       "\n",
       "     smoothness_mean  compactness_mean  concavity_mean  concave points_mean  \\\n",
       "0           0.122600          0.073400          0.2128              0.06777   \n",
       "1           0.065920          0.027490          0.1675              0.06043   \n",
       "2           0.047510          0.033840          0.1809              0.05718   \n",
       "3           0.016570          0.011150          0.1495              0.05888   \n",
       "4           0.018570          0.017230          0.1353              0.05953   \n",
       "..               ...               ...             ...                  ...   \n",
       "607         0.004967          0.006434          0.1845              0.05828   \n",
       "608         0.155400          0.083400          0.1448              0.05592   \n",
       "609         0.016520          0.016670          0.1551              0.06403   \n",
       "610         0.014620          0.018960          0.1517              0.05835   \n",
       "611         0.195000          0.123700          0.1909              0.06309   \n",
       "\n",
       "     ...  fractal_dimension_se  radius_worst  texture_worst  perimeter_worst  \\\n",
       "0    ...                 27.95        102.80          759.4          0.17860   \n",
       "1    ...                 20.70         89.88          582.6          0.14940   \n",
       "2    ...                 31.82         99.00          698.8          0.11620   \n",
       "3    ...                 25.72         82.98          516.5          0.10850   \n",
       "4    ...                 23.19         96.08          656.7          0.10890   \n",
       "..   ...                   ...           ...            ...              ...   \n",
       "607  ...                 41.78         78.44          470.9          0.09994   \n",
       "608  ...                 37.38        162.70         1872.0          0.12230   \n",
       "609  ...                 19.16         65.74          335.9          0.15040   \n",
       "610  ...                 30.28         98.27          715.5          0.12870   \n",
       "611  ...                 34.51        206.00         2944.0          0.14810   \n",
       "\n",
       "     area_worst  smoothness_worst  compactness_worst  concavity_worst  \\\n",
       "0       0.41660           0.50060            0.20880           0.3900   \n",
       "1       0.21560           0.30500            0.06548           0.2747   \n",
       "2       0.17110           0.22820            0.12820           0.2871   \n",
       "3       0.08615           0.05523            0.03715           0.2433   \n",
       "4       0.15820           0.10500            0.08586           0.2346   \n",
       "..          ...               ...                ...              ...   \n",
       "607     0.06885           0.02318            0.03002           0.2911   \n",
       "608     0.27610           0.41460            0.15630           0.2437   \n",
       "609     0.09515           0.07161            0.07222           0.2757   \n",
       "610     0.15130           0.06231            0.07963           0.2226   \n",
       "611     0.41260           0.58200            0.25930           0.3103   \n",
       "\n",
       "     fractal_dimension_worst  LABELS  \n",
       "0                    0.11790       1  \n",
       "1                    0.08301      -1  \n",
       "2                    0.06917      -1  \n",
       "3                    0.06563      -1  \n",
       "4                    0.08025      -1  \n",
       "..                       ...     ...  \n",
       "607                  0.07307      -1  \n",
       "608                  0.08328       1  \n",
       "609                  0.08178      -1  \n",
       "610                  0.07617      -1  \n",
       "611                  0.08677       1  \n",
       "\n",
       "[612 rows x 31 columns]"
      ]
     },
     "execution_count": 5,
     "metadata": {},
     "output_type": "execute_result"
    }
   ],
   "source": [
    "my_data"
   ]
  },
  {
   "cell_type": "markdown",
   "metadata": {},
   "source": [
    "# Normalization refers to rescaling real-valued numeric attributes into a 0\n",
    "#0\n",
    "# to 1\n",
    "#1\n",
    " #range.\n",
    "\n",
    "#Data normalization is used in machine learning to make model training less sensitive \n",
    "#to the scale of features. This allows our model to converge to better weights and, in turn, leads to a more accurate model."
   ]
  },
  {
   "cell_type": "code",
   "execution_count": 6,
   "metadata": {},
   "outputs": [],
   "source": [
    "from sklearn import preprocessing"
   ]
  },
  {
   "cell_type": "code",
   "execution_count": 7,
   "metadata": {},
   "outputs": [
    {
     "name": "stdout",
     "output_type": "stream",
     "text": [
      "Normalized Data =  [[ 1.40186635e-02  1.98624344e-02  9.15204776e-02 ...  4.15131266e-04\n",
      "   1.25497375e-04  1.06443914e-03]\n",
      " [ 1.61481279e-02  1.96055694e-02  1.04580905e-01 ...  3.68123713e-04\n",
      "   1.11241170e-04 -1.34009360e-03]\n",
      " [ 1.48724556e-02  2.45853046e-02  9.58165393e-02 ...  3.16522016e-04\n",
      "   7.62585436e-05 -1.10248003e-03]\n",
      " ...\n",
      " [ 2.13958149e-02  3.55814169e-02  1.34654752e-01 ...  6.16580556e-04\n",
      "   1.82894298e-04 -2.23641841e-03]\n",
      " [ 1.48215233e-02  2.24488503e-02  9.48556360e-02 ...  2.35158309e-04\n",
      "   8.04672435e-05 -1.05641648e-03]\n",
      " [ 6.82948931e-03  7.93586069e-03  4.51670232e-02 ...  9.13050638e-05\n",
      "   2.55318736e-05  2.94247708e-04]]\n"
     ]
    }
   ],
   "source": [
    "normalized = preprocessing.normalize(my_data)\n",
    "print(\"Normalized Data = \", normalized)"
   ]
  },
  {
   "cell_type": "code",
   "execution_count": 8,
   "metadata": {},
   "outputs": [
    {
     "data": {
      "image/png": "[encoded data removed]",
      "text/plain": [
       "<Figure size 432x288 with 1 Axes>"
      ]
     },
     "metadata": {
      "needs_background": "light"
     },
     "output_type": "display_data"
    }
   ],
   "source": [
    "from matplotlib import pyplot as plt\n",
    "plt.hist(my_data['LABELS'])\n",
    "plt.show()"
   ]
  },
  {
   "cell_type": "code",
   "execution_count": 59,
   "metadata": {},
   "outputs": [
    {
     "data": {
      "text/plain": [
       "-1    377\n",
       " 1    235\n",
       "Name: LABELS, dtype: int64"
      ]
     },
     "execution_count": 59,
     "metadata": {},
     "output_type": "execute_result"
    }
   ],
   "source": [
    "my_data[\"LABELS\"].value_counts()"
   ]
  },
  {
   "cell_type": "code",
   "execution_count": 9,
   "metadata": {},
   "outputs": [
    {
     "data": {
      "text/plain": [
       "(array([377.,   0.,   0.,   0.,   0.,   0.,   0.,   0.,   0., 235.]),\n",
       " array([-1. , -0.8, -0.6, -0.4, -0.2,  0. ,  0.2,  0.4,  0.6,  0.8,  1. ]),\n",
       " <BarContainer object of 10 artists>)"
      ]
     },
     "execution_count": 9,
     "metadata": {},
     "output_type": "execute_result"
    },
    {
     "data": {
      "image/png": "[encoded data removed]",
      "text/plain": [
       "<Figure size 720x1080 with 36 Axes>"
      ]
     },
     "metadata": {
      "needs_background": "light"
     },
     "output_type": "display_data"
    }
   ],
   "source": [
    "fig, ax=plt.subplots(6,6, figsize=(10,15))\n",
    "ax[0,0].hist(my_data['DIAGNOSIS'])\n",
    "ax[0,1].hist(my_data['radius_mean'])\n",
    "ax[0,2].hist(my_data['texture_mean'])\n",
    "ax[0,3].hist(my_data['perimeter_mean'])\n",
    "ax[0,4].hist(my_data['area_mean'])\n",
    "ax[0,5].hist(my_data['smoothness_mean'])\n",
    "ax[1,0].hist(my_data['compactness_mean'])\n",
    "ax[1,1].hist(my_data['concavity_mean'])\n",
    "ax[1,2].hist(my_data['concave points_mean'])\n",
    "ax[1,2].hist(my_data['fractal_dimension_se'])\n",
    "ax[1,4].hist(my_data['radius_worst'])\n",
    "ax[1,5].hist(my_data['texture_worst'])\n",
    "ax[2,0].hist(my_data['perimeter_worst'])\n",
    "ax[2,1].hist(my_data['area_worst'])\n",
    "ax[2,2].hist(my_data['smoothness_worst'])\n",
    "ax[2,3].hist(my_data['compactness_worst'])\n",
    "ax[2,4].hist(my_data['concavity_worst'])\n",
    "ax[2,5].hist(my_data['fractal_dimension_worst'])\n",
    "ax[3,0].hist(my_data['LABELS'])"
   ]
  },
  {
   "cell_type": "code",
   "execution_count": null,
   "metadata": {},
   "outputs": [],
   "source": []
  },
  {
   "cell_type": "code",
   "execution_count": 10,
   "metadata": {},
   "outputs": [
    {
     "data": {
      "text/plain": [
       "-1    377\n",
       " 1    235\n",
       "Name: LABELS, dtype: int64"
      ]
     },
     "execution_count": 10,
     "metadata": {},
     "output_type": "execute_result"
    }
   ],
   "source": [
    "my_data[\"LABELS\"].value_counts()"
   ]
  },
  {
   "cell_type": "code",
   "execution_count": 11,
   "metadata": {},
   "outputs": [
    {
     "data": {
      "text/plain": [
       "(array([377.,   0.,   0.,   0.,   0.,   0.,   0.,   0.,   0., 235.]),\n",
       " array([-1. , -0.8, -0.6, -0.4, -0.2,  0. ,  0.2,  0.4,  0.6,  0.8,  1. ]),\n",
       " <BarContainer object of 10 artists>)"
      ]
     },
     "execution_count": 11,
     "metadata": {},
     "output_type": "execute_result"
    },
    {
     "data": {
      "image/png": "[encoded data removed]",
      "text/plain": [
       "<Figure size 2160x720 with 1 Axes>"
      ]
     },
     "metadata": {
      "needs_background": "light"
     },
     "output_type": "display_data"
    }
   ],
   "source": [
    "fig = plt.figure(figsize = (30, 10))\n",
    "plt.hist(my_data[\"LABELS\"], color ='maroon',width = 0.4)"
   ]
  },
  {
   "cell_type": "code",
   "execution_count": 12,
   "metadata": {},
   "outputs": [],
   "source": [
    "#catagoryrange=[\"[{0} - {1}]\".format(Attack_type,Attack_type +1.0) for Attack_type in range(1,6,1)]\n",
    "#catagoryrange"
   ]
  },
  {
   "cell_type": "code",
   "execution_count": 13,
   "metadata": {},
   "outputs": [],
   "source": [
    "#Attack_typerange=len(catagoryrange)\n",
    "#Attack_typerange"
   ]
  },
  {
   "cell_type": "code",
   "execution_count": 14,
   "metadata": {},
   "outputs": [],
   "source": [
    "#data[\"Attack_typerange\"]=pd.cut(x=data[\"Attack_type\"],bins=Attack_typerange,labels=catagoryrange)"
   ]
  },
  {
   "cell_type": "code",
   "execution_count": 15,
   "metadata": {},
   "outputs": [
    {
     "name": "stdout",
     "output_type": "stream",
     "text": [
      "<class 'pandas.core.frame.DataFrame'>\n",
      "RangeIndex: 612 entries, 0 to 611\n",
      "Data columns (total 31 columns):\n",
      " #   Column                   Non-Null Count  Dtype  \n",
      "---  ------                   --------------  -----  \n",
      " 0   ID                       612 non-null    float64\n",
      " 1   DIAGNOSIS                612 non-null    float64\n",
      " 2   radius_mean              612 non-null    float64\n",
      " 3   texture_mean             612 non-null    float64\n",
      " 4   perimeter_mean           612 non-null    float64\n",
      " 5   area_mean                612 non-null    float64\n",
      " 6   smoothness_mean          612 non-null    float64\n",
      " 7   compactness_mean         612 non-null    float64\n",
      " 8   concavity_mean           612 non-null    float64\n",
      " 9   concave points_mean      612 non-null    float64\n",
      " 10  symmetry_mean            612 non-null    float64\n",
      " 11  fractal_dimension_mean   612 non-null    float64\n",
      " 12  radius_se                612 non-null    float64\n",
      " 13  texture_se               612 non-null    float64\n",
      " 14  perimeter_se             612 non-null    float64\n",
      " 15  area_se                  612 non-null    float64\n",
      " 16  smoothness_se            612 non-null    float64\n",
      " 17  compactness_se           612 non-null    float64\n",
      " 18  concavity_se             612 non-null    float64\n",
      " 19  concave points_se        612 non-null    float64\n",
      " 20  symmetry_se              612 non-null    float64\n",
      " 21  fractal_dimension_se     612 non-null    float64\n",
      " 22  radius_worst             612 non-null    float64\n",
      " 23  texture_worst            612 non-null    float64\n",
      " 24  perimeter_worst          612 non-null    float64\n",
      " 25  area_worst               612 non-null    float64\n",
      " 26  smoothness_worst         612 non-null    float64\n",
      " 27  compactness_worst        612 non-null    float64\n",
      " 28  concavity_worst          612 non-null    float64\n",
      " 29  fractal_dimension_worst  612 non-null    float64\n",
      " 30  LABELS                   612 non-null    int64  \n",
      "dtypes: float64(30), int64(1)\n",
      "memory usage: 148.3 KB\n"
     ]
    }
   ],
   "source": [
    "my_data.info()"
   ]
  },
  {
   "cell_type": "code",
   "execution_count": 16,
   "metadata": {},
   "outputs": [
    {
     "data": {
      "text/plain": [
       "ID                         0\n",
       "DIAGNOSIS                  0\n",
       "radius_mean                0\n",
       "texture_mean               0\n",
       "perimeter_mean             0\n",
       "area_mean                  0\n",
       "smoothness_mean            0\n",
       "compactness_mean           0\n",
       "concavity_mean             0\n",
       "concave points_mean        0\n",
       "symmetry_mean              0\n",
       "fractal_dimension_mean     0\n",
       "radius_se                  0\n",
       "texture_se                 0\n",
       "perimeter_se               0\n",
       "area_se                    0\n",
       "smoothness_se              0\n",
       "compactness_se             0\n",
       "concavity_se               0\n",
       "concave points_se          0\n",
       "symmetry_se                0\n",
       "fractal_dimension_se       0\n",
       "radius_worst               0\n",
       "texture_worst              0\n",
       "perimeter_worst            0\n",
       "area_worst                 0\n",
       "smoothness_worst           0\n",
       "compactness_worst          0\n",
       "concavity_worst            0\n",
       "fractal_dimension_worst    0\n",
       "LABELS                     0\n",
       "dtype: int64"
      ]
     },
     "execution_count": 16,
     "metadata": {},
     "output_type": "execute_result"
    }
   ],
   "source": [
    "my_data.isna().sum()"
   ]
  },
  {
   "cell_type": "code",
   "execution_count": 17,
   "metadata": {},
   "outputs": [],
   "source": [
    "#data= data[pd.to_numeric(data['arp.dst.proto_ipv4'], errors='coerce').notnull()]\n",
    "#data['arp.dst.proto_ipv4'] = data['arp.dst.proto_ipv4'].astype('float')\n",
    "#data.dtypes"
   ]
  },
  {
   "cell_type": "code",
   "execution_count": 18,
   "metadata": {},
   "outputs": [
    {
     "data": {
      "text/html": [
       "<div>\n",
       "<style scoped>\n",
       "    .dataframe tbody tr th:only-of-type {\n",
       "        vertical-align: middle;\n",
       "    }\n",
       "\n",
       "    .dataframe tbody tr th {\n",
       "        vertical-align: top;\n",
       "    }\n",
       "\n",
       "    .dataframe thead th {\n",
       "        text-align: right;\n",
       "    }\n",
       "</style>\n",
       "<table border=\"1\" class=\"dataframe\">\n",
       "  <thead>\n",
       "    <tr style=\"text-align: right;\">\n",
       "      <th></th>\n",
       "      <th>ID</th>\n",
       "      <th>DIAGNOSIS</th>\n",
       "      <th>radius_mean</th>\n",
       "      <th>texture_mean</th>\n",
       "      <th>perimeter_mean</th>\n",
       "      <th>area_mean</th>\n",
       "      <th>smoothness_mean</th>\n",
       "      <th>compactness_mean</th>\n",
       "      <th>concavity_mean</th>\n",
       "      <th>concave points_mean</th>\n",
       "      <th>...</th>\n",
       "      <th>symmetry_se</th>\n",
       "      <th>fractal_dimension_se</th>\n",
       "      <th>radius_worst</th>\n",
       "      <th>texture_worst</th>\n",
       "      <th>perimeter_worst</th>\n",
       "      <th>area_worst</th>\n",
       "      <th>smoothness_worst</th>\n",
       "      <th>compactness_worst</th>\n",
       "      <th>concavity_worst</th>\n",
       "      <th>fractal_dimension_worst</th>\n",
       "    </tr>\n",
       "  </thead>\n",
       "  <tbody>\n",
       "    <tr>\n",
       "      <th>0</th>\n",
       "      <td>13.170</td>\n",
       "      <td>18.66</td>\n",
       "      <td>85.98</td>\n",
       "      <td>534.6</td>\n",
       "      <td>0.11580</td>\n",
       "      <td>0.12310</td>\n",
       "      <td>0.122600</td>\n",
       "      <td>0.073400</td>\n",
       "      <td>0.2128</td>\n",
       "      <td>0.06777</td>\n",
       "      <td>...</td>\n",
       "      <td>15.67</td>\n",
       "      <td>27.95</td>\n",
       "      <td>102.80</td>\n",
       "      <td>759.4</td>\n",
       "      <td>0.17860</td>\n",
       "      <td>0.41660</td>\n",
       "      <td>0.50060</td>\n",
       "      <td>0.20880</td>\n",
       "      <td>0.3900</td>\n",
       "      <td>0.11790</td>\n",
       "    </tr>\n",
       "    <tr>\n",
       "      <th>1</th>\n",
       "      <td>12.050</td>\n",
       "      <td>14.63</td>\n",
       "      <td>78.04</td>\n",
       "      <td>449.3</td>\n",
       "      <td>0.10310</td>\n",
       "      <td>0.09092</td>\n",
       "      <td>0.065920</td>\n",
       "      <td>0.027490</td>\n",
       "      <td>0.1675</td>\n",
       "      <td>0.06043</td>\n",
       "      <td>...</td>\n",
       "      <td>13.76</td>\n",
       "      <td>20.70</td>\n",
       "      <td>89.88</td>\n",
       "      <td>582.6</td>\n",
       "      <td>0.14940</td>\n",
       "      <td>0.21560</td>\n",
       "      <td>0.30500</td>\n",
       "      <td>0.06548</td>\n",
       "      <td>0.2747</td>\n",
       "      <td>0.08301</td>\n",
       "    </tr>\n",
       "    <tr>\n",
       "      <th>2</th>\n",
       "      <td>13.490</td>\n",
       "      <td>22.30</td>\n",
       "      <td>86.91</td>\n",
       "      <td>561.0</td>\n",
       "      <td>0.08752</td>\n",
       "      <td>0.07698</td>\n",
       "      <td>0.047510</td>\n",
       "      <td>0.033840</td>\n",
       "      <td>0.1809</td>\n",
       "      <td>0.05718</td>\n",
       "      <td>...</td>\n",
       "      <td>15.15</td>\n",
       "      <td>31.82</td>\n",
       "      <td>99.00</td>\n",
       "      <td>698.8</td>\n",
       "      <td>0.11620</td>\n",
       "      <td>0.17110</td>\n",
       "      <td>0.22820</td>\n",
       "      <td>0.12820</td>\n",
       "      <td>0.2871</td>\n",
       "      <td>0.06917</td>\n",
       "    </tr>\n",
       "    <tr>\n",
       "      <th>3</th>\n",
       "      <td>11.760</td>\n",
       "      <td>21.60</td>\n",
       "      <td>74.72</td>\n",
       "      <td>427.9</td>\n",
       "      <td>0.08637</td>\n",
       "      <td>0.04966</td>\n",
       "      <td>0.016570</td>\n",
       "      <td>0.011150</td>\n",
       "      <td>0.1495</td>\n",
       "      <td>0.05888</td>\n",
       "      <td>...</td>\n",
       "      <td>12.98</td>\n",
       "      <td>25.72</td>\n",
       "      <td>82.98</td>\n",
       "      <td>516.5</td>\n",
       "      <td>0.10850</td>\n",
       "      <td>0.08615</td>\n",
       "      <td>0.05523</td>\n",
       "      <td>0.03715</td>\n",
       "      <td>0.2433</td>\n",
       "      <td>0.06563</td>\n",
       "    </tr>\n",
       "    <tr>\n",
       "      <th>4</th>\n",
       "      <td>13.640</td>\n",
       "      <td>16.34</td>\n",
       "      <td>87.21</td>\n",
       "      <td>571.8</td>\n",
       "      <td>0.07685</td>\n",
       "      <td>0.06059</td>\n",
       "      <td>0.018570</td>\n",
       "      <td>0.017230</td>\n",
       "      <td>0.1353</td>\n",
       "      <td>0.05953</td>\n",
       "      <td>...</td>\n",
       "      <td>14.67</td>\n",
       "      <td>23.19</td>\n",
       "      <td>96.08</td>\n",
       "      <td>656.7</td>\n",
       "      <td>0.10890</td>\n",
       "      <td>0.15820</td>\n",
       "      <td>0.10500</td>\n",
       "      <td>0.08586</td>\n",
       "      <td>0.2346</td>\n",
       "      <td>0.08025</td>\n",
       "    </tr>\n",
       "    <tr>\n",
       "      <th>...</th>\n",
       "      <td>...</td>\n",
       "      <td>...</td>\n",
       "      <td>...</td>\n",
       "      <td>...</td>\n",
       "      <td>...</td>\n",
       "      <td>...</td>\n",
       "      <td>...</td>\n",
       "      <td>...</td>\n",
       "      <td>...</td>\n",
       "      <td>...</td>\n",
       "      <td>...</td>\n",
       "      <td>...</td>\n",
       "      <td>...</td>\n",
       "      <td>...</td>\n",
       "      <td>...</td>\n",
       "      <td>...</td>\n",
       "      <td>...</td>\n",
       "      <td>...</td>\n",
       "      <td>...</td>\n",
       "      <td>...</td>\n",
       "      <td>...</td>\n",
       "    </tr>\n",
       "    <tr>\n",
       "      <th>607</th>\n",
       "      <td>11.220</td>\n",
       "      <td>33.81</td>\n",
       "      <td>70.79</td>\n",
       "      <td>386.8</td>\n",
       "      <td>0.07780</td>\n",
       "      <td>0.03574</td>\n",
       "      <td>0.004967</td>\n",
       "      <td>0.006434</td>\n",
       "      <td>0.1845</td>\n",
       "      <td>0.05828</td>\n",
       "      <td>...</td>\n",
       "      <td>12.36</td>\n",
       "      <td>41.78</td>\n",
       "      <td>78.44</td>\n",
       "      <td>470.9</td>\n",
       "      <td>0.09994</td>\n",
       "      <td>0.06885</td>\n",
       "      <td>0.02318</td>\n",
       "      <td>0.03002</td>\n",
       "      <td>0.2911</td>\n",
       "      <td>0.07307</td>\n",
       "    </tr>\n",
       "    <tr>\n",
       "      <th>608</th>\n",
       "      <td>20.510</td>\n",
       "      <td>27.81</td>\n",
       "      <td>134.40</td>\n",
       "      <td>1319.0</td>\n",
       "      <td>0.09159</td>\n",
       "      <td>0.10740</td>\n",
       "      <td>0.155400</td>\n",
       "      <td>0.083400</td>\n",
       "      <td>0.1448</td>\n",
       "      <td>0.05592</td>\n",
       "      <td>...</td>\n",
       "      <td>24.47</td>\n",
       "      <td>37.38</td>\n",
       "      <td>162.70</td>\n",
       "      <td>1872.0</td>\n",
       "      <td>0.12230</td>\n",
       "      <td>0.27610</td>\n",
       "      <td>0.41460</td>\n",
       "      <td>0.15630</td>\n",
       "      <td>0.2437</td>\n",
       "      <td>0.08328</td>\n",
       "    </tr>\n",
       "    <tr>\n",
       "      <th>609</th>\n",
       "      <td>9.567</td>\n",
       "      <td>15.91</td>\n",
       "      <td>60.21</td>\n",
       "      <td>279.6</td>\n",
       "      <td>0.08464</td>\n",
       "      <td>0.04087</td>\n",
       "      <td>0.016520</td>\n",
       "      <td>0.016670</td>\n",
       "      <td>0.1551</td>\n",
       "      <td>0.06403</td>\n",
       "      <td>...</td>\n",
       "      <td>10.51</td>\n",
       "      <td>19.16</td>\n",
       "      <td>65.74</td>\n",
       "      <td>335.9</td>\n",
       "      <td>0.15040</td>\n",
       "      <td>0.09515</td>\n",
       "      <td>0.07161</td>\n",
       "      <td>0.07222</td>\n",
       "      <td>0.2757</td>\n",
       "      <td>0.08178</td>\n",
       "    </tr>\n",
       "    <tr>\n",
       "      <th>610</th>\n",
       "      <td>14.030</td>\n",
       "      <td>21.25</td>\n",
       "      <td>89.79</td>\n",
       "      <td>603.4</td>\n",
       "      <td>0.09070</td>\n",
       "      <td>0.06945</td>\n",
       "      <td>0.014620</td>\n",
       "      <td>0.018960</td>\n",
       "      <td>0.1517</td>\n",
       "      <td>0.05835</td>\n",
       "      <td>...</td>\n",
       "      <td>15.33</td>\n",
       "      <td>30.28</td>\n",
       "      <td>98.27</td>\n",
       "      <td>715.5</td>\n",
       "      <td>0.12870</td>\n",
       "      <td>0.15130</td>\n",
       "      <td>0.06231</td>\n",
       "      <td>0.07963</td>\n",
       "      <td>0.2226</td>\n",
       "      <td>0.07617</td>\n",
       "    </tr>\n",
       "    <tr>\n",
       "      <th>611</th>\n",
       "      <td>23.210</td>\n",
       "      <td>26.97</td>\n",
       "      <td>153.50</td>\n",
       "      <td>1670.0</td>\n",
       "      <td>0.09509</td>\n",
       "      <td>0.16820</td>\n",
       "      <td>0.195000</td>\n",
       "      <td>0.123700</td>\n",
       "      <td>0.1909</td>\n",
       "      <td>0.06309</td>\n",
       "      <td>...</td>\n",
       "      <td>31.01</td>\n",
       "      <td>34.51</td>\n",
       "      <td>206.00</td>\n",
       "      <td>2944.0</td>\n",
       "      <td>0.14810</td>\n",
       "      <td>0.41260</td>\n",
       "      <td>0.58200</td>\n",
       "      <td>0.25930</td>\n",
       "      <td>0.3103</td>\n",
       "      <td>0.08677</td>\n",
       "    </tr>\n",
       "  </tbody>\n",
       "</table>\n",
       "<p>612 rows × 30 columns</p>\n",
       "</div>"
      ],
      "text/plain": [
       "         ID  DIAGNOSIS  radius_mean  texture_mean  perimeter_mean  area_mean  \\\n",
       "0    13.170      18.66        85.98         534.6         0.11580    0.12310   \n",
       "1    12.050      14.63        78.04         449.3         0.10310    0.09092   \n",
       "2    13.490      22.30        86.91         561.0         0.08752    0.07698   \n",
       "3    11.760      21.60        74.72         427.9         0.08637    0.04966   \n",
       "4    13.640      16.34        87.21         571.8         0.07685    0.06059   \n",
       "..      ...        ...          ...           ...             ...        ...   \n",
       "607  11.220      33.81        70.79         386.8         0.07780    0.03574   \n",
       "608  20.510      27.81       134.40        1319.0         0.09159    0.10740   \n",
       "609   9.567      15.91        60.21         279.6         0.08464    0.04087   \n",
       "610  14.030      21.25        89.79         603.4         0.09070    0.06945   \n",
       "611  23.210      26.97       153.50        1670.0         0.09509    0.16820   \n",
       "\n",
       "     smoothness_mean  compactness_mean  concavity_mean  concave points_mean  \\\n",
       "0           0.122600          0.073400          0.2128              0.06777   \n",
       "1           0.065920          0.027490          0.1675              0.06043   \n",
       "2           0.047510          0.033840          0.1809              0.05718   \n",
       "3           0.016570          0.011150          0.1495              0.05888   \n",
       "4           0.018570          0.017230          0.1353              0.05953   \n",
       "..               ...               ...             ...                  ...   \n",
       "607         0.004967          0.006434          0.1845              0.05828   \n",
       "608         0.155400          0.083400          0.1448              0.05592   \n",
       "609         0.016520          0.016670          0.1551              0.06403   \n",
       "610         0.014620          0.018960          0.1517              0.05835   \n",
       "611         0.195000          0.123700          0.1909              0.06309   \n",
       "\n",
       "     ...  symmetry_se  fractal_dimension_se  radius_worst  texture_worst  \\\n",
       "0    ...        15.67                 27.95        102.80          759.4   \n",
       "1    ...        13.76                 20.70         89.88          582.6   \n",
       "2    ...        15.15                 31.82         99.00          698.8   \n",
       "3    ...        12.98                 25.72         82.98          516.5   \n",
       "4    ...        14.67                 23.19         96.08          656.7   \n",
       "..   ...          ...                   ...           ...            ...   \n",
       "607  ...        12.36                 41.78         78.44          470.9   \n",
       "608  ...        24.47                 37.38        162.70         1872.0   \n",
       "609  ...        10.51                 19.16         65.74          335.9   \n",
       "610  ...        15.33                 30.28         98.27          715.5   \n",
       "611  ...        31.01                 34.51        206.00         2944.0   \n",
       "\n",
       "     perimeter_worst  area_worst  smoothness_worst  compactness_worst  \\\n",
       "0            0.17860     0.41660           0.50060            0.20880   \n",
       "1            0.14940     0.21560           0.30500            0.06548   \n",
       "2            0.11620     0.17110           0.22820            0.12820   \n",
       "3            0.10850     0.08615           0.05523            0.03715   \n",
       "4            0.10890     0.15820           0.10500            0.08586   \n",
       "..               ...         ...               ...                ...   \n",
       "607          0.09994     0.06885           0.02318            0.03002   \n",
       "608          0.12230     0.27610           0.41460            0.15630   \n",
       "609          0.15040     0.09515           0.07161            0.07222   \n",
       "610          0.12870     0.15130           0.06231            0.07963   \n",
       "611          0.14810     0.41260           0.58200            0.25930   \n",
       "\n",
       "     concavity_worst  fractal_dimension_worst  \n",
       "0             0.3900                  0.11790  \n",
       "1             0.2747                  0.08301  \n",
       "2             0.2871                  0.06917  \n",
       "3             0.2433                  0.06563  \n",
       "4             0.2346                  0.08025  \n",
       "..               ...                      ...  \n",
       "607           0.2911                  0.07307  \n",
       "608           0.2437                  0.08328  \n",
       "609           0.2757                  0.08178  \n",
       "610           0.2226                  0.07617  \n",
       "611           0.3103                  0.08677  \n",
       "\n",
       "[612 rows x 30 columns]"
      ]
     },
     "execution_count": 18,
     "metadata": {},
     "output_type": "execute_result"
    }
   ],
   "source": [
    "X=my_data.drop(['LABELS'], axis='columns')\n",
    "X"
   ]
  },
  {
   "cell_type": "markdown",
   "metadata": {},
   "source": [
    "Now we can fill the target variable.\n"
   ]
  },
  {
   "cell_type": "code",
   "execution_count": 19,
   "metadata": {
    "button": false,
    "new_sheet": false,
    "run_control": {
     "read_only": false
    },
    "scrolled": true
   },
   "outputs": [
    {
     "data": {
      "text/plain": [
       "0      1\n",
       "1     -1\n",
       "2     -1\n",
       "3     -1\n",
       "4     -1\n",
       "      ..\n",
       "607   -1\n",
       "608    1\n",
       "609   -1\n",
       "610   -1\n",
       "611    1\n",
       "Name: LABELS, Length: 612, dtype: int64"
      ]
     },
     "execution_count": 19,
     "metadata": {},
     "output_type": "execute_result"
    }
   ],
   "source": [
    "#y=data[\"target\"]\n",
    "y=my_data.LABELS\n",
    "y"
   ]
  },
  {
   "cell_type": "code",
   "execution_count": null,
   "metadata": {},
   "outputs": [],
   "source": []
  },
  {
   "cell_type": "code",
   "execution_count": 20,
   "metadata": {},
   "outputs": [
    {
     "name": "stderr",
     "output_type": "stream",
     "text": [
      "D:\\anaconda\\lib\\site-packages\\sklearn\\cluster\\_kmeans.py:1036: UserWarning: KMeans is known to have a memory leak on Windows with MKL, when there are less chunks than available threads. You can avoid it by setting the environment variable OMP_NUM_THREADS=3.\n",
      "  warnings.warn(\n"
     ]
    },
    {
     "data": {
      "image/png": "[encoded data removed]",
      "text/plain": [
       "<Figure size 432x288 with 1 Axes>"
      ]
     },
     "metadata": {
      "needs_background": "light"
     },
     "output_type": "display_data"
    }
   ],
   "source": [
    "from sklearn.cluster import KMeans\n",
    "cs = []\n",
    "for i in range(1, 26):\n",
    "    kmeans = KMeans(n_clusters = i, init = 'k-means++', max_iter = 300, n_init = 10, random_state = 0)\n",
    "    kmeans.fit(X)\n",
    "    cs.append(kmeans.inertia_)\n",
    "plt.plot(range(1, 26), cs)\n",
    "plt.title('The Elbow Method')\n",
    "plt.xlabel('Number of clusters')\n",
    "plt.ylabel('CS')\n",
    "plt.show()"
   ]
  },
  {
   "cell_type": "code",
   "execution_count": null,
   "metadata": {},
   "outputs": [],
   "source": []
  },
  {
   "cell_type": "code",
   "execution_count": null,
   "metadata": {},
   "outputs": [],
   "source": []
  },
  {
   "cell_type": "code",
   "execution_count": 21,
   "metadata": {
    "button": false,
    "new_sheet": false,
    "run_control": {
     "read_only": false
    }
   },
   "outputs": [],
   "source": [
    "from sklearn.model_selection import train_test_split"
   ]
  },
  {
   "cell_type": "markdown",
   "metadata": {
    "button": false,
    "new_sheet": false,
    "run_control": {
     "read_only": false
    }
   },
   "source": [
    "Now <b> train_test_split </b> will return 4 different parameters. We will name them:<br>\n",
    "X_train, X_test, y_train, y_test <br> <br>\n",
    "The <b> train_test_split </b> will need the parameters: <br>\n",
    "X, y, test_size=0.33, and random_state=42 <br> <br>\n",
    "The <b>X</b> and <b>y</b> are the arrays required before the split, the <b>test_size</b> represents the ratio of the testing dataset, and the <b>random_state</b> ensures that we obtain the same splits.\n"
   ]
  },
  {
   "cell_type": "code",
   "execution_count": 22,
   "metadata": {
    "button": false,
    "new_sheet": false,
    "run_control": {
     "read_only": false
    }
   },
   "outputs": [],
   "source": [
    "X_train, X_test, y_train, y_test = train_test_split(X, y, test_size=0.30, random_state=42)"
   ]
  },
  {
   "cell_type": "code",
   "execution_count": 23,
   "metadata": {
    "button": false,
    "new_sheet": false,
    "run_control": {
     "read_only": false
    }
   },
   "outputs": [
    {
     "name": "stdout",
     "output_type": "stream",
     "text": [
      "Shape of X training set (428, 30) &  Size of Y training set (428,)\n"
     ]
    }
   ],
   "source": [
    "print('Shape of X training set {}'.format(X_train.shape),'&',' Size of Y training set {}'.format(y_train.shape))"
   ]
  },
  {
   "cell_type": "code",
   "execution_count": 24,
   "metadata": {
    "button": false,
    "new_sheet": false,
    "run_control": {
     "read_only": false
    }
   },
   "outputs": [
    {
     "name": "stdout",
     "output_type": "stream",
     "text": [
      "Shape of X training set (184, 30) &  Size of Y training set (184,)\n"
     ]
    }
   ],
   "source": [
    "print('Shape of X training set {}'.format(X_test.shape),'&',' Size of Y training set {}'.format(y_test.shape))"
   ]
  },
  {
   "cell_type": "code",
   "execution_count": 25,
   "metadata": {},
   "outputs": [],
   "source": [
    "from sklearn.preprocessing import StandardScaler"
   ]
  },
  {
   "cell_type": "code",
   "execution_count": 26,
   "metadata": {},
   "outputs": [],
   "source": [
    "scaler = StandardScaler()\n",
    "# Fit only on X_train\n",
    "scaler.fit(X_train)\n",
    "\n",
    "# Scale both X_train and X_test\n",
    "X_train = scaler.transform(X_train)\n",
    "X_test = scaler.transform(X_test)"
   ]
  },
  {
   "cell_type": "markdown",
   "metadata": {
    "button": false,
    "new_sheet": false,
    "run_control": {
     "read_only": false
    }
   },
   "source": [
    "<hr>\n",
    "\n",
    "<div id=\"modeling\">\n",
    "    <h2>Modeling</h2>\n",
    "    We will first create an instance of the <b>DecisionTreeClassifier</b> called <b>drugTree</b>.<br>\n",
    "    Inside of the classifier, specify <i> criterion=\"entropy\" </i> so we can see the information gain of each node.\n",
    "</div>\n"
   ]
  },
  {
   "cell_type": "markdown",
   "metadata": {},
   "source": [
    "# For K value =1"
   ]
  },
  {
   "cell_type": "code",
   "execution_count": 27,
   "metadata": {},
   "outputs": [],
   "source": [
    "from sklearn.neighbors import KNeighborsRegressor"
   ]
  },
  {
   "cell_type": "code",
   "execution_count": 28,
   "metadata": {},
   "outputs": [],
   "source": [
    "regressor = KNeighborsRegressor(n_neighbors=1)"
   ]
  },
  {
   "cell_type": "code",
   "execution_count": 29,
   "metadata": {
    "scrolled": true
   },
   "outputs": [
    {
     "data": {
      "text/plain": [
       "KNeighborsRegressor(n_neighbors=1)"
      ]
     },
     "execution_count": 29,
     "metadata": {},
     "output_type": "execute_result"
    }
   ],
   "source": [
    "regressor.fit(X_train, y_train)"
   ]
  },
  {
   "cell_type": "code",
   "execution_count": 30,
   "metadata": {},
   "outputs": [],
   "source": [
    "y_pred = regressor.predict(X_test)"
   ]
  },
  {
   "cell_type": "code",
   "execution_count": 31,
   "metadata": {},
   "outputs": [
    {
     "data": {
      "text/plain": [
       "array([-1.,  1., -1., -1., -1.,  1., -1.,  1.,  1., -1., -1., -1., -1.,\n",
       "        1.,  1., -1.,  1.,  1.,  1., -1.,  1.,  1., -1.,  1., -1.,  1.,\n",
       "       -1.,  1., -1., -1., -1.,  1., -1., -1.,  1., -1.,  1., -1.,  1.,\n",
       "        1.,  1., -1., -1., -1., -1.,  1., -1., -1.,  1., -1., -1., -1.,\n",
       "       -1.,  1., -1., -1., -1., -1., -1.,  1.,  1., -1.,  1., -1., -1.,\n",
       "       -1., -1., -1.,  1., -1., -1.,  1., -1.,  1.,  1.,  1., -1.,  1.,\n",
       "        1., -1., -1.,  1., -1.,  1., -1., -1., -1., -1.,  1., -1., -1.,\n",
       "       -1., -1., -1., -1., -1., -1., -1., -1.,  1.,  1., -1., -1., -1.,\n",
       "        1., -1.,  1., -1.,  1., -1., -1.,  1., -1., -1., -1., -1.,  1.,\n",
       "       -1.,  1.,  1., -1.,  1.,  1.,  1., -1.,  1., -1., -1.,  1., -1.,\n",
       "        1.,  1., -1.,  1.,  1., -1.,  1.,  1., -1.,  1., -1., -1.,  1.,\n",
       "        1.,  1.,  1.,  1., -1., -1., -1.,  1.,  1.,  1., -1., -1.,  1.,\n",
       "       -1., -1., -1.,  1.,  1., -1., -1., -1., -1., -1., -1., -1., -1.,\n",
       "       -1., -1.,  1.,  1.,  1., -1., -1., -1., -1.,  1.,  1., -1., -1.,\n",
       "       -1., -1.])"
      ]
     },
     "execution_count": 31,
     "metadata": {},
     "output_type": "execute_result"
    }
   ],
   "source": [
    "y_pred"
   ]
  },
  {
   "cell_type": "code",
   "execution_count": 32,
   "metadata": {},
   "outputs": [],
   "source": [
    "from sklearn.metrics import mean_absolute_error, mean_squared_error"
   ]
  },
  {
   "cell_type": "code",
   "execution_count": 33,
   "metadata": {},
   "outputs": [
    {
     "name": "stdout",
     "output_type": "stream",
     "text": [
      "mae: 0.043478260869565216\n",
      "mse: 0.08695652173913043\n",
      "rmse: 0.29488391230979427\n"
     ]
    }
   ],
   "source": [
    "mae = mean_absolute_error(y_test, y_pred)\n",
    "mse = mean_squared_error(y_test, y_pred)\n",
    "rmse = mean_squared_error(y_test, y_pred, squared=False)\n",
    "\n",
    "print(f'mae: {mae}')\n",
    "print(f'mse: {mse}')\n",
    "print(f'rmse: {rmse}')"
   ]
  },
  {
   "cell_type": "code",
   "execution_count": 34,
   "metadata": {},
   "outputs": [
    {
     "data": {
      "text/plain": [
       "0.9106687704818546"
      ]
     },
     "execution_count": 34,
     "metadata": {},
     "output_type": "execute_result"
    }
   ],
   "source": [
    "regressor.score(X_test, y_test)"
   ]
  },
  {
   "cell_type": "code",
   "execution_count": 35,
   "metadata": {},
   "outputs": [
    {
     "data": {
      "text/plain": [
       "count    612.000000\n",
       "mean      -0.232026\n",
       "std        0.973505\n",
       "min       -1.000000\n",
       "25%       -1.000000\n",
       "50%       -1.000000\n",
       "75%        1.000000\n",
       "max        1.000000\n",
       "Name: LABELS, dtype: float64"
      ]
     },
     "execution_count": 35,
     "metadata": {},
     "output_type": "execute_result"
    }
   ],
   "source": [
    "y.describe()"
   ]
  },
  {
   "cell_type": "code",
   "execution_count": null,
   "metadata": {},
   "outputs": [],
   "source": []
  },
  {
   "cell_type": "code",
   "execution_count": 36,
   "metadata": {},
   "outputs": [],
   "source": [
    "error = []\n",
    "\n",
    "# Calculating MAE error for K values between 1 and 39\n",
    "for i in range(1, 40):\n",
    "    knn = KNeighborsRegressor(n_neighbors=i)\n",
    "    knn.fit(X_train, y_train)\n",
    "    pred_i = knn.predict(X_test)\n",
    "    mae = mean_absolute_error(y_test, pred_i)\n",
    "    error.append(mae)"
   ]
  },
  {
   "cell_type": "code",
   "execution_count": 37,
   "metadata": {},
   "outputs": [],
   "source": [
    "import matplotlib.pyplot as plt "
   ]
  },
  {
   "cell_type": "code",
   "execution_count": 38,
   "metadata": {},
   "outputs": [
    {
     "data": {
      "text/plain": [
       "Text(0, 0.5, 'Mean Absolute Error')"
      ]
     },
     "execution_count": 38,
     "metadata": {},
     "output_type": "execute_result"
    },
    {
     "data": {
      "image/png": "[encoded data removed]",
      "text/plain": [
       "<Figure size 864x432 with 1 Axes>"
      ]
     },
     "metadata": {
      "needs_background": "light"
     },
     "output_type": "display_data"
    }
   ],
   "source": [
    "plt.figure(figsize=(12, 6))\n",
    "plt.plot(range(1, 40), error, color='red', \n",
    "         linestyle='dashed', marker='o',\n",
    "         markerfacecolor='blue', markersize=10)\n",
    "         \n",
    "plt.title('K Value MAE')\n",
    "plt.xlabel('K Value')\n",
    "plt.ylabel('Mean Absolute Error')"
   ]
  },
  {
   "cell_type": "code",
   "execution_count": 39,
   "metadata": {},
   "outputs": [
    {
     "data": {
      "text/plain": [
       "Text(0, 0.5, 'Mean Absolute Error')"
      ]
     },
     "execution_count": 39,
     "metadata": {},
     "output_type": "execute_result"
    },
    {
     "data": {
      "image/png": "[encoded data removed]",
      "text/plain": [
       "<Figure size 864x432 with 1 Axes>"
      ]
     },
     "metadata": {
      "needs_background": "light"
     },
     "output_type": "display_data"
    }
   ],
   "source": [
    "plt.figure(figsize=(12, 6))\n",
    "plt.plot(range(1, 15), error[:14], color='red', \n",
    "         linestyle='dashed', marker='o',\n",
    "         markerfacecolor='blue', markersize=10)\n",
    "plt.title('K Value MAE')\n",
    "plt.xlabel('K Value')\n",
    "plt.ylabel('Mean Absolute Error')"
   ]
  },
  {
   "cell_type": "code",
   "execution_count": null,
   "metadata": {},
   "outputs": [],
   "source": []
  },
  {
   "cell_type": "code",
   "execution_count": 40,
   "metadata": {},
   "outputs": [
    {
     "name": "stdout",
     "output_type": "stream",
     "text": [
      "0.043478260869565216\n",
      "0\n"
     ]
    }
   ],
   "source": [
    "import numpy as np \n",
    "\n",
    "print(min(error))               \n",
    "print(np.array(error).argmin())"
   ]
  },
  {
   "cell_type": "code",
   "execution_count": null,
   "metadata": {},
   "outputs": [],
   "source": []
  },
  {
   "cell_type": "code",
   "execution_count": 41,
   "metadata": {},
   "outputs": [
    {
     "name": "stdout",
     "output_type": "stream",
     "text": [
      "r2: 0.869725290286038, \n",
      "mae: 0.14673913043478262 \n",
      "mse: 0.12681159420289856 \n",
      "rmse: 0.35610615580595983\n"
     ]
    }
   ],
   "source": [
    "knn_reg12 = KNeighborsRegressor(n_neighbors=12)\n",
    "knn_reg12.fit(X_train, y_train)\n",
    "y_pred12 = knn_reg12.predict(X_test)\n",
    "r2 = knn_reg12.score(X_test, y_test) \n",
    "\n",
    "mae12 = mean_absolute_error(y_test, y_pred12)\n",
    "mse12 = mean_squared_error(y_test, y_pred12)\n",
    "rmse12 = mean_squared_error(y_test, y_pred12, squared=False)\n",
    "print(f'r2: {r2}, \\nmae: {mae12} \\nmse: {mse12} \\nrmse: {rmse12}')"
   ]
  },
  {
   "cell_type": "code",
   "execution_count": 42,
   "metadata": {},
   "outputs": [],
   "source": [
    "from sklearn.neighbors import KNeighborsClassifier\n",
    "from sklearn.metrics import classification_report"
   ]
  },
  {
   "cell_type": "code",
   "execution_count": 43,
   "metadata": {},
   "outputs": [
    {
     "name": "stdout",
     "output_type": "stream",
     "text": [
      "              precision    recall  f1-score   support\n",
      "\n",
      "          -1       0.93      1.00      0.96       107\n",
      "           1       1.00      0.90      0.95        77\n",
      "\n",
      "    accuracy                           0.96       184\n",
      "   macro avg       0.97      0.95      0.95       184\n",
      "weighted avg       0.96      0.96      0.96       184\n",
      "\n"
     ]
    }
   ],
   "source": [
    "classifier15 = KNeighborsClassifier(n_neighbors=15)\n",
    "classifier15.fit(X_train, y_train)\n",
    "y_pred15 = classifier15.predict(X_test)\n",
    "print(classification_report(y_test, y_pred15))"
   ]
  },
  {
   "cell_type": "markdown",
   "metadata": {},
   "source": [
    "# For K value =3"
   ]
  },
  {
   "cell_type": "code",
   "execution_count": 44,
   "metadata": {},
   "outputs": [],
   "source": [
    "from sklearn.neighbors import KNeighborsRegressor"
   ]
  },
  {
   "cell_type": "code",
   "execution_count": 45,
   "metadata": {},
   "outputs": [],
   "source": [
    "regressor = KNeighborsRegressor(n_neighbors=3)"
   ]
  },
  {
   "cell_type": "code",
   "execution_count": 46,
   "metadata": {},
   "outputs": [
    {
     "data": {
      "text/plain": [
       "KNeighborsRegressor(n_neighbors=3)"
      ]
     },
     "execution_count": 46,
     "metadata": {},
     "output_type": "execute_result"
    }
   ],
   "source": [
    "regressor.fit(X_train, y_train)"
   ]
  },
  {
   "cell_type": "code",
   "execution_count": 47,
   "metadata": {},
   "outputs": [],
   "source": [
    "y_pred = regressor.predict(X_test)"
   ]
  },
  {
   "cell_type": "code",
   "execution_count": 48,
   "metadata": {},
   "outputs": [],
   "source": [
    "from sklearn.metrics import mean_absolute_error, mean_squared_error"
   ]
  },
  {
   "cell_type": "code",
   "execution_count": 49,
   "metadata": {},
   "outputs": [],
   "source": [
    "from sklearn.neighbors import KNeighborsClassifier\n",
    "from sklearn.metrics import classification_report"
   ]
  },
  {
   "cell_type": "code",
   "execution_count": 50,
   "metadata": {},
   "outputs": [
    {
     "name": "stdout",
     "output_type": "stream",
     "text": [
      "              precision    recall  f1-score   support\n",
      "\n",
      "          -1       0.96      0.99      0.98       107\n",
      "           1       0.99      0.95      0.97        77\n",
      "\n",
      "    accuracy                           0.97       184\n",
      "   macro avg       0.98      0.97      0.97       184\n",
      "weighted avg       0.97      0.97      0.97       184\n",
      "\n"
     ]
    }
   ],
   "source": [
    "classifier3 = KNeighborsClassifier(n_neighbors=3)\n",
    "classifier3.fit(X_train, y_train)\n",
    "y_pred3 = classifier3.predict(X_test)\n",
    "print(classification_report(y_test, y_pred3))"
   ]
  },
  {
   "cell_type": "markdown",
   "metadata": {},
   "source": [
    "# FOR K VALUE 5"
   ]
  },
  {
   "cell_type": "code",
   "execution_count": 51,
   "metadata": {},
   "outputs": [
    {
     "name": "stdout",
     "output_type": "stream",
     "text": [
      "              precision    recall  f1-score   support\n",
      "\n",
      "          -1       0.95      1.00      0.97       107\n",
      "           1       1.00      0.92      0.96        77\n",
      "\n",
      "    accuracy                           0.97       184\n",
      "   macro avg       0.97      0.96      0.97       184\n",
      "weighted avg       0.97      0.97      0.97       184\n",
      "\n"
     ]
    }
   ],
   "source": [
    "classifier5 = KNeighborsClassifier(n_neighbors=5)\n",
    "classifier5.fit(X_train, y_train)\n",
    "y_pred5 = classifier5.predict(X_test)\n",
    "print(classification_report(y_test, y_pred5))"
   ]
  },
  {
   "cell_type": "markdown",
   "metadata": {},
   "source": [
    "# FOR K VALUE 7"
   ]
  },
  {
   "cell_type": "code",
   "execution_count": 52,
   "metadata": {},
   "outputs": [
    {
     "name": "stdout",
     "output_type": "stream",
     "text": [
      "              precision    recall  f1-score   support\n",
      "\n",
      "          -1       0.94      1.00      0.97       107\n",
      "           1       1.00      0.91      0.95        77\n",
      "\n",
      "    accuracy                           0.96       184\n",
      "   macro avg       0.97      0.95      0.96       184\n",
      "weighted avg       0.96      0.96      0.96       184\n",
      "\n"
     ]
    }
   ],
   "source": [
    "classifier7 = KNeighborsClassifier(n_neighbors=7)\n",
    "classifier7.fit(X_train, y_train)\n",
    "y_pred7 = classifier7.predict(X_test)\n",
    "print(classification_report(y_test, y_pred7))"
   ]
  },
  {
   "cell_type": "markdown",
   "metadata": {},
   "source": [
    "# FOR K VALUE 9"
   ]
  },
  {
   "cell_type": "code",
   "execution_count": 53,
   "metadata": {},
   "outputs": [
    {
     "name": "stdout",
     "output_type": "stream",
     "text": [
      "              precision    recall  f1-score   support\n",
      "\n",
      "          -1       0.94      1.00      0.97       107\n",
      "           1       1.00      0.91      0.95        77\n",
      "\n",
      "    accuracy                           0.96       184\n",
      "   macro avg       0.97      0.95      0.96       184\n",
      "weighted avg       0.96      0.96      0.96       184\n",
      "\n"
     ]
    }
   ],
   "source": [
    "classifier9 = KNeighborsClassifier(n_neighbors=9)\n",
    "classifier9.fit(X_train, y_train)\n",
    "y_pred9 = classifier9.predict(X_test)\n",
    "print(classification_report(y_test, y_pred9))"
   ]
  },
  {
   "cell_type": "code",
   "execution_count": null,
   "metadata": {},
   "outputs": [],
   "source": []
  }
 ],
 "metadata": {
  "anaconda-cloud": {},
  "kernelspec": {
   "display_name": "Python 3 (ipykernel)",
   "language": "python",
   "name": "python3"
  },
  "language_info": {
   "codemirror_mode": {
    "name": "ipython",
    "version": 3
   },
   "file_extension": ".py",
   "mimetype": "text/x-python",
   "name": "python",
   "nbconvert_exporter": "python",
   "pygments_lexer": "ipython3",
   "version": "3.9.7"
  },
  "widgets": {
   "state": {},
   "version": "1.1.2"
  }
 },
 "nbformat": 4,
 "nbformat_minor": 4
}
